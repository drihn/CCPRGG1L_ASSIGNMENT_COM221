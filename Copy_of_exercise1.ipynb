{
  "cells": [
    {
      "cell_type": "markdown",
      "metadata": {
        "id": "view-in-github",
        "colab_type": "text"
      },
      "source": [
        "<a href=\"https://colab.research.google.com/github/drihn/CCPRGG1L_ASSIGNMENT_COM221/blob/main/Copy_of_exercise1.ipynb\" target=\"_parent\"><img src=\"https://colab.research.google.com/assets/colab-badge.svg\" alt=\"Open In Colab\"/></a>"
      ]
    },
    {
      "cell_type": "markdown",
      "metadata": {
        "id": "h2vFiYhGzZOg"
      },
      "source": [
        "# Exercise 1"
      ]
    },
    {
      "cell_type": "markdown",
      "source": [
        "## Class Initialization"
      ],
      "metadata": {
        "id": "sRm6kPQozcaU"
      }
    },
    {
      "cell_type": "code",
      "execution_count": null,
      "metadata": {
        "id": "b1u4Dt9mzZOi"
      },
      "outputs": [],
      "source": [
        "class Node:\n",
        "    def __init__(self, data):\n",
        "        self.data = data\n",
        "        self.next = None"
      ]
    },
    {
      "cell_type": "code",
      "execution_count": null,
      "metadata": {
        "id": "tigvHSaHzZOj"
      },
      "outputs": [],
      "source": [
        "class LinkedList:\n",
        "\n",
        "    def __init__(self):\n",
        "        self.head = None\n",
        "\n",
        "    def traverse(self, node):\n",
        "        while node:\n",
        "            print(node.data, end=\" -> \")\n",
        "            node = node.next"
      ]
    },
    {
      "cell_type": "code",
      "execution_count": null,
      "metadata": {
        "id": "LIkQBioVzZOk"
      },
      "outputs": [],
      "source": [
        "class DoublyLinkedList:\n",
        "\n",
        "    def __init__(self):\n",
        "        self.head = None\n",
        "\n",
        "    def traverse(self, node):\n",
        "        while node:\n",
        "            print(node.data, end=\" -> \")\n",
        "            node = node.next"
      ]
    },
    {
      "cell_type": "code",
      "execution_count": null,
      "metadata": {
        "id": "zlxNT5EozZOl"
      },
      "outputs": [],
      "source": [
        "class CircularLinkedList:\n",
        "\n",
        "    def __init__(self):\n",
        "        self.head = None\n",
        "\n",
        "    def traverse(self, node):\n",
        "\n",
        "        head = node\n",
        "\n",
        "        while node:\n",
        "            print(node.data, end=\" -> \")\n",
        "            node = node.next\n",
        "\n",
        "            # Break to prevent infinite loop\n",
        "            if node == head:\n",
        "                break"
      ]
    },
    {
      "cell_type": "markdown",
      "metadata": {
        "id": "O68-Q1-bzZOl"
      },
      "source": [
        "#### 1. Create a Singly Linked list\n",
        "\n",
        "- Each node should contain your name and your seatmates in your row\n",
        "- Create at least 5 nodes\n",
        "- Traverse all nodes"
      ]
    },
    {
      "cell_type": "code",
      "execution_count": null,
      "metadata": {
        "id": "pTcx_OuPzZOl",
        "outputId": "51248d86-e489-4973-a706-302c072023f0",
        "colab": {
          "base_uri": "https://localhost:8080/"
        }
      },
      "outputs": [
        {
          "output_type": "stream",
          "name": "stdout",
          "text": [
            "Aldrin -> Mico -> Andrew -> Nicko Necterg -> Cristian -> Aldrin -> Mico -> Andrew -> Nicko Necterg -> Cristian -> "
          ]
        }
      ],
      "source": [
        "# Create new instance of LinkedList\n",
        "linked_list = LinkedList()\n",
        "# Give each node a data it will hold\n",
        "linked_list.head = Node(\"Aldrin\")\n",
        "node_b = Node(\"Mico\")\n",
        "node_c = Node(\"Andrew\")\n",
        "node_d = Node(\"Nicko Necterg\")\n",
        "node_e = Node(\"Cristian\")\n",
        "# Connect each node\n",
        "linked_list.head.next = node_b\n",
        "node_b.next = node_c\n",
        "node_c.next = node_d\n",
        "node_d.next = node_e\n",
        "linked_list.traverse(linked_list.head)\n",
        "\n",
        "circular_linked_list.traverse(circular_linked_list.head)\n",
        "\n"
      ]
    },
    {
      "cell_type": "markdown",
      "metadata": {
        "id": "IFgwbdw_zZOm"
      },
      "source": [
        "#### 2. Create a Doubly Linked list\n",
        "\n",
        "- Each node should contain your name and your seatmates in your row\n",
        "- Create at least 5 nodes\n",
        "- Traverse all nodes"
      ]
    },
    {
      "cell_type": "code",
      "execution_count": null,
      "metadata": {
        "id": "8kQD2A_QzZOm",
        "outputId": "82e407a1-7916-45ed-a6b4-08ac14c65068",
        "colab": {
          "base_uri": "https://localhost:8080/"
        }
      },
      "outputs": [
        {
          "output_type": "stream",
          "name": "stdout",
          "text": [
            "value of head is : Aldrin\n",
            "value of next to head is : Mico\n",
            "---\n",
            "value of node_b is : Mico\n",
            "value of previous of node_b is : Aldrin\n",
            "value of next of node_b is : Andrew\n",
            "---\n",
            "value of node_c is : Andrew\n",
            "value of previous of node_c is : Mico\n",
            "value of next of node_c is : Nicko Necterg\n",
            "---\n",
            "value of node_d is : Nicko Necterg\n",
            "value of previous of node_d is : Andrew\n",
            "value of next of node_d is : Cristian\n",
            "---\n",
            "value of node_e is : Cristian\n",
            "value of previous of node_e is : Nicko Necterg\n",
            "Aldrin -> Mico -> Andrew -> Nicko Necterg -> Cristian -> "
          ]
        }
      ],
      "source": [
        "class Node:\n",
        "\n",
        "    def __init__(self, data):\n",
        "        self.data = data\n",
        "        self.next = None\n",
        "        self.prev = None\n",
        "\n",
        "class DoublyLinkedList:\n",
        "\n",
        "    def __init__(self):\n",
        "        self.head = None\n",
        "\n",
        "    def traverse(self, node):\n",
        "        while node:\n",
        "            print(node.data, end=\" -> \")\n",
        "            node = node.next\n",
        "\n",
        "doubly_linked_list = DoublyLinkedList()\n",
        "\n",
        "doubly_linked_list.head = Node(\"Aldrin\")\n",
        "node_b = Node(\"Mico\")\n",
        "node_c = Node(\"Andrew\")\n",
        "node_d = Node(\"Nicko Necterg\")\n",
        "node_e = Node(\"Cristian\")\n",
        "\n",
        "doubly_linked_list.head.prev = None\n",
        "doubly_linked_list.head.next = node_b\n",
        "\n",
        "node_b.prev = doubly_linked_list.head\n",
        "node_b.next = node_c\n",
        "\n",
        "node_c.prev = node_b\n",
        "node_c.next = node_d\n",
        "\n",
        "node_d.prev = node_c\n",
        "node_d.next = node_e\n",
        "\n",
        "node_e.prev = node_d\n",
        "node_e.next = None\n",
        "\n",
        "# Print value of each node\n",
        "print(\"value of head is :\", doubly_linked_list.head.data)\n",
        "print(\"value of next to head is :\", doubly_linked_list.head.next.data)\n",
        "\n",
        "print(\"---\")\n",
        "\n",
        "print(\"value of node_b is :\", node_b.data)\n",
        "print(\"value of previous of node_b is :\", node_b.prev.data)\n",
        "print(\"value of next of node_b is :\", node_b.next.data)\n",
        "\n",
        "print(\"---\")\n",
        "\n",
        "print(\"value of node_c is :\", node_c.data)\n",
        "print(\"value of previous of node_c is :\", node_c.prev.data)\n",
        "print(\"value of next of node_c is :\", node_c.next.data)\n",
        "\n",
        "print(\"---\")\n",
        "\n",
        "print(\"value of node_d is :\", node_d.data)\n",
        "print(\"value of previous of node_d is :\", node_d.prev.data)\n",
        "print(\"value of next of node_d is :\", node_d.next.data)\n",
        "\n",
        "print(\"---\")\n",
        "\n",
        "print(\"value of node_e is :\", node_e.data)\n",
        "print(\"value of previous of node_e is :\", node_e.prev.data)\n",
        "\n",
        "circular_linked_list.traverse(circular_linked_list.head)\n",
        "\n"
      ]
    },
    {
      "cell_type": "markdown",
      "metadata": {
        "id": "rtApbsCjzZOm"
      },
      "source": [
        "#### 3. Create a Circular Linked list\n",
        "\n",
        "- Each node should contain your name and your seatmates in your row\n",
        "- Create at least 5 nodes\n",
        "- Traverse all nodes"
      ]
    },
    {
      "cell_type": "code",
      "execution_count": null,
      "metadata": {
        "id": "Gp1Oiq0jzZOn",
        "outputId": "1274c96c-ae59-41dc-b7e4-4810b13cd752",
        "colab": {
          "base_uri": "https://localhost:8080/"
        }
      },
      "outputs": [
        {
          "output_type": "stream",
          "name": "stdout",
          "text": [
            "value of head is : Aldrin\n",
            "value of next to head is : Mico\n",
            "---\n",
            "value of node_b is : Mico\n",
            "value of next of node_b is : Andrew\n",
            "---\n",
            "value of node_c is : Andrew\n",
            "value of next of node_c is : Nicko Necterg\n",
            "---\n",
            "value of node_d is : Nicko Necterg\n",
            "value of next of node_d is : Cristian\n",
            "---\n",
            "value of node_e is : Cristian\n",
            "value of next of node_e is : Aldrin\n",
            "Aldrin -> Mico -> Andrew -> Nicko Necterg -> Cristian -> "
          ]
        }
      ],
      "source": [
        "class Node:\n",
        "    def __init__(self, data):\n",
        "        self.data = data\n",
        "        self.next = None\n",
        "\n",
        "class CircularLinkedList:\n",
        "\n",
        "    def __init__(self):\n",
        "        self.head = None\n",
        "\n",
        "    def traverse(self, node):\n",
        "\n",
        "        head = node\n",
        "\n",
        "        while node:\n",
        "            print(node.data, end=\" -> \")\n",
        "            node = node.next\n",
        "\n",
        "            # Break to prevent infinite loop\n",
        "            if node == head:\n",
        "                break\n",
        "\n",
        "circular_linked_list = CircularLinkedList()\n",
        "circular_linked_list.head = Node(\"Aldrin\")\n",
        "node_b = Node(\"Mico\")\n",
        "node_c = Node(\"Andrew\")\n",
        "node_d = Node(\"Nicko Necterg\")\n",
        "node_e = Node(\"Cristian\")\n",
        "\n",
        "circular_linked_list.head.next = node_b\n",
        "node_b.next = node_c\n",
        "node_c.next = node_d\n",
        "node_d.next = node_e\n",
        "node_e.next = circular_linked_list.head\n",
        "\n",
        "# Print value of each node\n",
        "print(\"value of head is :\", circular_linked_list.head.data)\n",
        "print(\"value of next to head is :\", circular_linked_list.head.next.data)\n",
        "\n",
        "print(\"---\")\n",
        "\n",
        "print(\"value of node_b is :\", node_b.data)\n",
        "print(\"value of next of node_b is :\", node_b.next.data)\n",
        "\n",
        "print(\"---\")\n",
        "\n",
        "print(\"value of node_c is :\", node_c.data)\n",
        "print(\"value of next of node_c is :\", node_c.next.data)\n",
        "\n",
        "print(\"---\")\n",
        "\n",
        "print(\"value of node_d is :\", node_d.data)\n",
        "print(\"value of next of node_d is :\", node_d.next.data)\n",
        "\n",
        "print(\"---\")\n",
        "\n",
        "print(\"value of node_e is :\", node_e.data)\n",
        "print(\"value of next of node_e is :\", node_e.next.data)\n",
        "\n",
        "\n",
        "circular_linked_list.traverse(circular_linked_list.head)\n",
        "\n"
      ]
    }
  ],
  "metadata": {
    "kernelspec": {
      "display_name": "Python 3",
      "language": "python",
      "name": "python3"
    },
    "language_info": {
      "name": "python",
      "version": "3.11.4"
    },
    "orig_nbformat": 4,
    "colab": {
      "provenance": [],
      "include_colab_link": true
    }
  },
  "nbformat": 4,
  "nbformat_minor": 0
}